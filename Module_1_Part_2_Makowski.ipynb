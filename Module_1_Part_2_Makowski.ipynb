{
 "cells": [
  {
   "cell_type": "code",
   "execution_count": 1,
   "id": "58240e24",
   "metadata": {},
   "outputs": [
    {
     "data": {
      "text/plain": [
       "'Temperature Conversion Tool.\\n\\nThis program prompts the user for a temperature in Fahrenheit,\\nconverts it to Celsius and Kelvin using a function, and then\\nprints the results.\\n'"
      ]
     },
     "execution_count": 1,
     "metadata": {},
     "output_type": "execute_result"
    }
   ],
   "source": [
    "\"\"\"Temperature Conversion Tool.\n",
    "\n",
    "This program prompts the user for a temperature in Fahrenheit,\n",
    "converts it to Celsius and Kelvin using a function, and then\n",
    "prints the results.\n",
    "\"\"\""
   ]
  },
  {
   "cell_type": "code",
   "execution_count": null,
   "id": "ee4cf849",
   "metadata": {},
   "outputs": [],
   "source": [
    "def fahrenheit_to_celsius_kelvin(fahrenheit: float) -> tuple[float, float]:\n",
    "    \"\"\"Convert Fahrenheit temperature to Celsius and Kelvin.\n",
    "\n",
    "    Args:\n",
    "        fahrenheit (float): Temperature in degrees Fahrenheit.\n",
    "\n",
    "    Returns:\n",
    "        tuple[float, float]: Converted temperatures in Celsius and Kelvin.\n",
    "    \"\"\"\n",
    "    celsius = (fahrenheit - 32) * 5 / 9\n",
    "    kelvin = celsius + 273.15\n",
    "    return celsius, kelvin"
   ]
  }
 ],
 "metadata": {
  "kernelspec": {
   "display_name": "Python 3",
   "language": "python",
   "name": "python3"
  },
  "language_info": {
   "codemirror_mode": {
    "name": "ipython",
    "version": 3
   },
   "file_extension": ".py",
   "mimetype": "text/x-python",
   "name": "python",
   "nbconvert_exporter": "python",
   "pygments_lexer": "ipython3",
   "version": "3.12.1"
  }
 },
 "nbformat": 4,
 "nbformat_minor": 5
}
