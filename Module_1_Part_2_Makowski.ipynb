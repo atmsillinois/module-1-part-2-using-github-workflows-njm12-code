{
 "cells": [
  {
   "cell_type": "code",
   "execution_count": 1,
   "id": "58240e24",
   "metadata": {},
   "outputs": [
    {
     "data": {
      "text/plain": [
       "'Temperature Conversion Tool.\\n\\nThis program prompts the user for a temperature in Fahrenheit,\\nconverts it to Celsius and Kelvin using a function, and then\\nprints the results.\\n'"
      ]
     },
     "execution_count": 1,
     "metadata": {},
     "output_type": "execute_result"
    }
   ],
   "source": [
    "\"\"\"Temperature Conversion Tool.\n",
    "\n",
    "This program prompts the user for a temperature in Fahrenheit,\n",
    "converts it to Celsius and Kelvin using a function, and then\n",
    "prints the results.\n",
    "\"\"\""
   ]
  },
  {
   "cell_type": "code",
   "execution_count": 2,
   "id": "ee4cf849",
   "metadata": {},
   "outputs": [],
   "source": [
    "def fahrenheit_to_celsius_kelvin(fahrenheit: float) -> tuple[float, float]:\n",
    "    \"\"\"Convert Fahrenheit temperature to Celsius and Kelvin.\n",
    "\n",
    "    Args:\n",
    "        fahrenheit (float): Temperature in degrees Fahrenheit.\n",
    "\n",
    "    Returns:\n",
    "        tuple[float, float]: Converted temperatures in Celsius and Kelvin.\n",
    "    \"\"\"\n",
    "    celsius = (fahrenheit - 32) * 5 / 9\n",
    "    kelvin = celsius + 273.15\n",
    "    return celsius, kelvin"
   ]
  },
  {
   "cell_type": "code",
   "execution_count": 3,
   "id": "dbf4afbf",
   "metadata": {},
   "outputs": [],
   "source": [
    "# Request user input\n",
    "fahrenheit_input = float(input(\"Enter temperature in Fahrenheit: \"))"
   ]
  },
  {
   "cell_type": "code",
   "execution_count": 4,
   "id": "ac297bb3",
   "metadata": {},
   "outputs": [
    {
     "name": "stdout",
     "output_type": "stream",
     "text": [
      "\n",
      "Input Temperature: 212.00 °F\n",
      "Converted to Celsius: 100.00 °C\n",
      "Converted to Kelvin: 373.15 K\n"
     ]
    }
   ],
   "source": [
    "# Perform conversion\n",
    "celsius_output, kelvin_output = fahrenheit_to_celsius_kelvin(fahrenheit_input)\n",
    "\n",
    "# Display results\n",
    "print(f\"\\nInput Temperature: {fahrenheit_input:.2f} °F\")\n",
    "print(f\"Converted to Celsius: {celsius_output:.2f} °C\")\n",
    "print(f\"Converted to Kelvin: {kelvin_output:.2f} K\")"
   ]
  },
  {
   "cell_type": "code",
   "execution_count": 5,
   "id": "932eabdb",
   "metadata": {},
   "outputs": [
    {
     "data": {
      "text/plain": [
       "'Extended Temperature Conversion Tool.\\n\\nAdds functionality to accept Celsius input and convert it to\\nFahrenheit and Kelvin. This code expands upon the original\\nFahrenheit-based converter.\\n'"
      ]
     },
     "execution_count": 5,
     "metadata": {},
     "output_type": "execute_result"
    }
   ],
   "source": [
    "\"\"\"Extended Temperature Conversion Tool.\n",
    "\n",
    "Adds functionality to accept Celsius input and convert it to\n",
    "Fahrenheit and Kelvin. This code expands upon the original\n",
    "Fahrenheit-based converter.\n",
    "\"\"\""
   ]
  },
  {
   "cell_type": "code",
   "execution_count": 6,
   "id": "2a06d135",
   "metadata": {},
   "outputs": [],
   "source": [
    "def celsius_to_fahrenheit_kelvin(celsius: float) -> tuple[float, float]:\n",
    "    \"\"\"Convert Celsius temperature to Fahrenheit and Kelvin.\n",
    "\n",
    "    Args:\n",
    "        celsius (float): Temperature in degrees Celsius.\n",
    "\n",
    "    Returns:\n",
    "        tuple[float, float]: Converted temperatures in Fahrenheit and Kelvin.\n",
    "    \"\"\"\n",
    "    fahrenheit = (celsius * 9 / 5) + 32\n",
    "    kelvin = celsius + 273.15\n",
    "    return fahrenheit, kelvin"
   ]
  },
  {
   "cell_type": "code",
   "execution_count": 7,
   "id": "92e74bb8",
   "metadata": {},
   "outputs": [],
   "source": [
    "# Request user input\n",
    "celsius_input = float(input(\"Enter temperature in Celsius: \"))\n"
   ]
  },
  {
   "cell_type": "code",
   "execution_count": 8,
   "id": "47c149a0",
   "metadata": {},
   "outputs": [
    {
     "name": "stdout",
     "output_type": "stream",
     "text": [
      "\n",
      "Input Temperature: 100.00 °C\n",
      "Converted to Fahrenheit: 212.00 °F\n",
      "Converted to Kelvin: 373.15 K\n"
     ]
    }
   ],
   "source": [
    "# Perform conversion\n",
    "fahrenheit_output, kelvin_output = celsius_to_fahrenheit_kelvin(celsius_input)\n",
    "\n",
    "# Display results\n",
    "print(f\"\\nInput Temperature: {celsius_input:.2f} °C\")\n",
    "print(f\"Converted to Fahrenheit: {fahrenheit_output:.2f} °F\")\n",
    "print(f\"Converted to Kelvin: {kelvin_output:.2f} K\")"
   ]
  },
  {
   "cell_type": "code",
   "execution_count": 9,
   "id": "e02fb298",
   "metadata": {},
   "outputs": [
    {
     "data": {
      "text/plain": [
       "'Extended Temperature Conversion Tool.\\n\\nAdds functionality to accept Kelvin input and convert it to\\nCelsius and Fahrenheit. This code builds upon the original\\nFahrenheit-based converter.\\n'"
      ]
     },
     "execution_count": 9,
     "metadata": {},
     "output_type": "execute_result"
    }
   ],
   "source": [
    "\"\"\"Extended Temperature Conversion Tool.\n",
    "\n",
    "Adds functionality to accept Kelvin input and convert it to\n",
    "Celsius and Fahrenheit. This code builds upon the original\n",
    "Fahrenheit-based converter.\n",
    "\"\"\""
   ]
  },
  {
   "cell_type": "code",
   "execution_count": 10,
   "id": "e5d03638",
   "metadata": {},
   "outputs": [
    {
     "name": "stdout",
     "output_type": "stream",
     "text": [
      "\n",
      "Input Temperature: 373.15 K\n",
      "Converted to Celsius: 100.00 °C\n",
      "Converted to Fahrenheit: 212.00 °F\n"
     ]
    }
   ],
   "source": [
    "def kelvin_to_celsius_fahrenheit(kelvin: float) -> tuple[float, float]:\n",
    "    \"\"\"Convert Kelvin temperature to Celsius and Fahrenheit.\n",
    "\n",
    "    Args:\n",
    "        kelvin (float): Temperature in Kelvin.\n",
    "\n",
    "    Returns:\n",
    "        tuple[float, float]: Converted temperatures in Celsius and Fahrenheit.\n",
    "    \"\"\"\n",
    "    celsius = kelvin - 273.15\n",
    "    fahrenheit = (celsius * 9 / 5) + 32\n",
    "    return celsius, fahrenheit\n",
    "\n",
    "\n",
    "# Request user input\n",
    "kelvin_input = float(input(\"Enter temperature in Kelvin: \"))\n",
    "\n",
    "# Perform conversion\n",
    "celsius_output, fahrenheit_output = kelvin_to_celsius_fahrenheit(kelvin_input)\n",
    "\n",
    "# Display results\n",
    "print(f\"\\nInput Temperature: {kelvin_input:.2f} K\")\n",
    "print(f\"Converted to Celsius: {celsius_output:.2f} °C\")\n",
    "print(f\"Converted to Fahrenheit: {fahrenheit_output:.2f} °F\")"
   ]
  },
  {
   "cell_type": "code",
   "execution_count": null,
   "id": "92e11aaa",
   "metadata": {},
   "outputs": [],
   "source": []
  }
 ],
 "metadata": {
  "kernelspec": {
   "display_name": "Python 3",
   "language": "python",
   "name": "python3"
  },
  "language_info": {
   "codemirror_mode": {
    "name": "ipython",
    "version": 3
   },
   "file_extension": ".py",
   "mimetype": "text/x-python",
   "name": "python",
   "nbconvert_exporter": "python",
   "pygments_lexer": "ipython3",
   "version": "3.12.1"
  }
 },
 "nbformat": 4,
 "nbformat_minor": 5
}
